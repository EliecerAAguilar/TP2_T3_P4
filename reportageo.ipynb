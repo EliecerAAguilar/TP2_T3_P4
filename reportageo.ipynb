{
 "cells": [
  {
   "cell_type": "code",
   "execution_count": null,
   "outputs": [],
   "source": [
    "!pip install psycopg2-binary"
   ],
   "metadata": {
    "collapsed": false,
    "pycharm": {
     "name": "#%%\n"
    }
   }
  },
  {
   "cell_type": "code",
   "execution_count": null,
   "outputs": [],
   "source": [
    "!pip install geopandas"
   ],
   "metadata": {
    "collapsed": false,
    "pycharm": {
     "name": "#%%\n"
    }
   }
  },
  {
   "cell_type": "code",
   "execution_count": null,
   "metadata": {
    "collapsed": true,
    "pycharm": {
     "name": "#%%\n"
    }
   },
   "outputs": [],
   "source": [
    "import geopandas as gp\n",
    "import psycopg2 as pg2\n",
    "\n",
    "\n",
    "def main():\n",
    "    try:\n",
    "        con = pg2.connect(\n",
    "            host = \"ec2-3-222-74-92.compute-1.amazonaws.com\",\n",
    "            database = \"ddkqm651ptq41g\",\n",
    "            user = \"knxfxnexhnvtqx\",\n",
    "            password = \"fd99404f7a0e7a8c5fe119ab7ab20ef7a0bea0b3c7fe2bb262b0c0e8b6341076\",\n",
    "            port = \"5432\"\n",
    "        )\n",
    "\n",
    "        cursor = con.cursor()\n",
    "        sql = \"\"\"SELECT * FROM pan_adm0;\"\"\"\n",
    "        df = gp.GeoDataFrame.from_postgis(sql, con, geom_col='geom')\n",
    "        df.plot()\n",
    "        cursor.close()\n",
    "        con.close()\n",
    "\n",
    "    except Exception as error:\n",
    "        print(error.args)\n"
   ]
  }
 ],
 "metadata": {
  "kernelspec": {
   "display_name": "Python 3",
   "language": "python",
   "name": "python3"
  },
  "language_info": {
   "codemirror_mode": {
    "name": "ipython",
    "version": 2
   },
   "file_extension": ".py",
   "mimetype": "text/x-python",
   "name": "python",
   "nbconvert_exporter": "python",
   "pygments_lexer": "ipython2",
   "version": "2.7.6"
  }
 },
 "nbformat": 4,
 "nbformat_minor": 0
}